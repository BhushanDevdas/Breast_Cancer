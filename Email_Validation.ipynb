{
  "nbformat": 4,
  "nbformat_minor": 0,
  "metadata": {
    "colab": {
      "name": "Untitled2.ipynb",
      "provenance": [],
      "authorship_tag": "ABX9TyP9V8S90gc3TFjeV+UPSaJb",
      "include_colab_link": true
    },
    "kernelspec": {
      "name": "python3",
      "display_name": "Python 3"
    },
    "language_info": {
      "name": "python"
    }
  },
  "cells": [
    {
      "cell_type": "markdown",
      "metadata": {
        "id": "view-in-github",
        "colab_type": "text"
      },
      "source": [
        "<a href=\"https://colab.research.google.com/github/BhushanDevdas/Try-To-Learn-Code/blob/main/Untitled2.ipynb\" target=\"_parent\"><img src=\"https://colab.research.google.com/assets/colab-badge.svg\" alt=\"Open In Colab\"/></a>"
      ]
    },
    {
      "cell_type": "code",
      "execution_count": null,
      "metadata": {
        "id": "m3UQVy0zpGGV"
      },
      "outputs": [],
      "source": [
        "mail=input('enter mail here:--')\n",
        "k,j,d=0,0,0\n",
        "if len(mail>=6):\n",
        "  if mail[0].isalpha():\n",
        "    if (mail[-4]=='@') and (mail[-3]=='.'):\n",
        "      if ('@'==mail) and (mail.count(\"@\")==1):\n",
        "        for i in mail:\n",
        "          if i==i.isspace():\n",
        "            k=1\n",
        "          elif i.isalpha():\n",
        "            if i.upper():\n",
        "              j=1\n",
        "          elif i.isdigit():\n",
        "            continue\n",
        "          elif i=='_' or i=='@' or i=='.':\n",
        "            continue\n",
        "          else:\n",
        "            d=1\n",
        "        if k==1 or j==1 or d==1:\n",
        "          print('wrong mail five')\n",
        "      else:\n",
        "        print('wrong mail four')\n",
        "    else:\n",
        "      print('wrong mail three')\n",
        "  else:\n",
        "    print(\"wrong mail two\")\n",
        "else:\n",
        "  print('wrong mail one')"
      ]
    }
  ]
}
