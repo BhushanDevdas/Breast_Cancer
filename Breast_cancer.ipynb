{
  "nbformat": 4,
  "nbformat_minor": 0,
  "metadata": {
    "colab": {
      "name": "Untitled2.ipynb",
      "provenance": [],
      "collapsed_sections": [],
      "authorship_tag": "ABX9TyNt4wL/A52j8k0COTpr60Cl",
      "include_colab_link": true
    },
    "kernelspec": {
      "name": "python3",
      "display_name": "Python 3"
    },
    "language_info": {
      "name": "python"
    }
  },
  "cells": [
    {
      "cell_type": "markdown",
      "metadata": {
        "id": "view-in-github",
        "colab_type": "text"
      },
      "source": [
        "<a href=\"https://colab.research.google.com/github/BhushanDevdas/Breast_Cancer/blob/main/Breast_cancer.ipynb\" target=\"_parent\"><img src=\"https://colab.research.google.com/assets/colab-badge.svg\" alt=\"Open In Colab\"/></a>"
      ]
    },
    {
      "cell_type": "code",
      "execution_count": null,
      "metadata": {
        "id": "Rc-0XuYAFw8o"
      },
      "outputs": [],
      "source": [
        "import numpy as np\n",
        "import matplotlib as plt\n",
        "import pandas as pd\n",
        "import seaborn as sns"
      ]
    },
    {
      "cell_type": "code",
      "source": [
        "from sklearn.datasets import load_breast_cancer\n",
        "breast_cancer=load_breast_cancer()\n",
        "print(breast_cancer)"
      ],
      "metadata": {
        "id": "945IhL7kF-ei"
      },
      "execution_count": null,
      "outputs": []
    },
    {
      "cell_type": "code",
      "source": [
        "# print(breast_cancer.keys())\n",
        "print(breast_cancer['feature_names'])"
      ],
      "metadata": {
        "colab": {
          "base_uri": "https://localhost:8080/"
        },
        "id": "5wyAy4uZGUK7",
        "outputId": "2c5040dc-d859-4224-c621-ab2652b22ab1"
      },
      "execution_count": null,
      "outputs": [
        {
          "output_type": "stream",
          "name": "stdout",
          "text": [
            "['mean radius' 'mean texture' 'mean perimeter' 'mean area'\n",
            " 'mean smoothness' 'mean compactness' 'mean concavity'\n",
            " 'mean concave points' 'mean symmetry' 'mean fractal dimension'\n",
            " 'radius error' 'texture error' 'perimeter error' 'area error'\n",
            " 'smoothness error' 'compactness error' 'concavity error'\n",
            " 'concave points error' 'symmetry error' 'fractal dimension error'\n",
            " 'worst radius' 'worst texture' 'worst perimeter' 'worst area'\n",
            " 'worst smoothness' 'worst compactness' 'worst concavity'\n",
            " 'worst concave points' 'worst symmetry' 'worst fractal dimension']\n"
          ]
        }
      ]
    },
    {
      "cell_type": "code",
      "source": [
        "cancer_frame=pd.DataFrame(np.c_[breast_cancer['data'],breast_cancer['target']],columns=np.append(breast_cancer['feature_names'],['target']))\n",
        "print(cancer_frame)"
      ],
      "metadata": {
        "colab": {
          "base_uri": "https://localhost:8080/"
        },
        "id": "dQ0PDwnfGlL5",
        "outputId": "86bfb82e-0da1-4d75-8227-afe670eb1e29"
      },
      "execution_count": null,
      "outputs": [
        {
          "output_type": "stream",
          "name": "stdout",
          "text": [
            "     mean radius  mean texture  ...  worst fractal dimension  target\n",
            "0          17.99         10.38  ...                  0.11890     0.0\n",
            "1          20.57         17.77  ...                  0.08902     0.0\n",
            "2          19.69         21.25  ...                  0.08758     0.0\n",
            "3          11.42         20.38  ...                  0.17300     0.0\n",
            "4          20.29         14.34  ...                  0.07678     0.0\n",
            "..           ...           ...  ...                      ...     ...\n",
            "564        21.56         22.39  ...                  0.07115     0.0\n",
            "565        20.13         28.25  ...                  0.06637     0.0\n",
            "566        16.60         28.08  ...                  0.07820     0.0\n",
            "567        20.60         29.33  ...                  0.12400     0.0\n",
            "568         7.76         24.54  ...                  0.07039     1.0\n",
            "\n",
            "[569 rows x 31 columns]\n"
          ]
        }
      ]
    },
    {
      "cell_type": "code",
      "source": [
        "cancer_frame.to_csv('breast_cancer_dataframe.csv')\n",
        "cancer_frame.head()"
      ],
      "metadata": {
        "id": "CFZBEbDBIY1D"
      },
      "execution_count": null,
      "outputs": []
    },
    {
      "cell_type": "code",
      "source": [
        "# cancer_frame.info()\n",
        "cancer_frame.describe()"
      ],
      "metadata": {
        "id": "u8FNX_sBI4Iy"
      },
      "execution_count": null,
      "outputs": []
    }
  ]
}