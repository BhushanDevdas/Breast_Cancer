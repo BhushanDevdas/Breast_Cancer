{
  "nbformat": 4,
  "nbformat_minor": 0,
  "metadata": {
    "colab": {
      "name": "Untitled12.ipynb",
      "provenance": [],
      "authorship_tag": "ABX9TyNEePYQUDeMdBz9EfpZkwuz",
      "include_colab_link": true
    },
    "kernelspec": {
      "name": "python3",
      "display_name": "Python 3"
    },
    "language_info": {
      "name": "python"
    }
  },
  "cells": [
    {
      "cell_type": "markdown",
      "metadata": {
        "id": "view-in-github",
        "colab_type": "text"
      },
      "source": [
        "<a href=\"https://colab.research.google.com/github/BhushanDevdas/Try-To-Learn-Code/blob/main/Random_password_generator.ipynb\" target=\"_parent\"><img src=\"https://colab.research.google.com/assets/colab-badge.svg\" alt=\"Open In Colab\"/></a>"
      ]
    },
    {
      "cell_type": "code",
      "execution_count": 5,
      "metadata": {
        "colab": {
          "base_uri": "https://localhost:8080/"
        },
        "id": "sIu-mXMCi6Xg",
        "outputId": "cada1881-a601-4ddc-b4bf-7f5639868816"
      },
      "outputs": [
        {
          "output_type": "stream",
          "name": "stdout",
          "text": [
            "This is your password---> g<$u7@w(T?\n"
          ]
        }
      ],
      "source": [
        "import random\n",
        "lower_case='asdfdgfhgjhrwtrytuyiuy'\n",
        "upper_case='SDFSDGTYETRIUUNBNCB'\n",
        "number='43254656768679'\n",
        "symbol='{}[];?><!@#$%^^&*()'\n",
        "\n",
        "all=lower_case+upper_case+number+symbol\n",
        "length=10\n",
        "\n",
        "check=''.join(random.sample(all,length))\n",
        "print('This is your password--->',check)"
      ]
    }
  ]
}