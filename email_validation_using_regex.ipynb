{
  "nbformat": 4,
  "nbformat_minor": 0,
  "metadata": {
    "colab": {
      "name": "Untitled12.ipynb",
      "provenance": [],
      "authorship_tag": "ABX9TyNHjMoedF83dClsdb0mYX+k",
      "include_colab_link": true
    },
    "kernelspec": {
      "name": "python3",
      "display_name": "Python 3"
    },
    "language_info": {
      "name": "python"
    }
  },
  "cells": [
    {
      "cell_type": "markdown",
      "metadata": {
        "id": "view-in-github",
        "colab_type": "text"
      },
      "source": [
        "<a href=\"https://colab.research.google.com/github/BhushanDevdas/Try-To-Learn-Code/blob/main/email_validation_using_regex.ipynb\" target=\"_parent\"><img src=\"https://colab.research.google.com/assets/colab-badge.svg\" alt=\"Open In Colab\"/></a>"
      ]
    },
    {
      "cell_type": "code",
      "source": [
        "import re\n",
        "\n",
        "regex_mail='^[a-z]+[\\._]?[a-z 0-9]+[@]\\w+[.]\\w{3}$'\n",
        "\n",
        "mail=input('enter your mail here---')\n",
        "\n",
        "if re.search(regex_mail,mail):\n",
        "  print('your mail is right')\n",
        "else:\n",
        "  print('your mail is wrong')"
      ],
      "metadata": {
        "colab": {
          "base_uri": "https://localhost:8080/"
        },
        "id": "G9uYsKAIkbIk",
        "outputId": "f4f87a29-2913-41af-a4d6-99690b1da972"
      },
      "execution_count": 6,
      "outputs": [
        {
          "output_type": "stream",
          "name": "stdout",
          "text": [
            "enter your mail here---fewafa123@gmail.com\n",
            "your mail is right\n"
          ]
        }
      ]
    }
  ]
}